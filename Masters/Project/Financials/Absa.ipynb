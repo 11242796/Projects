{
 "cells": [
  {
   "cell_type": "code",
   "execution_count": 5,
   "metadata": {},
   "outputs": [],
   "source": [
    "import requests\n",
    "from bs4 import BeautifulSoup\n",
    "import pandas as pd\n"
   ]
  },
  {
   "cell_type": "code",
   "execution_count": 4,
   "metadata": {},
   "outputs": [
    {
     "name": "stderr",
     "output_type": "stream",
     "text": [
      "Some characters could not be decoded, and were replaced with REPLACEMENT CHARACTER.\n"
     ]
    },
    {
     "name": "stdout",
     "output_type": "stream",
     "text": [
      "No tables found on the page.\n"
     ]
    }
   ],
   "source": [
    "# Set the URL for Absa Bank's annual financial statements\n",
    "url = 'https://www.absa.africa/wp-content/uploads/2023/03/Results-booklet-for-the-period-ended-31-December-2022-single-page.pdf'\n",
    "\n",
    "# Request the HTML content of the page\n",
    "html = requests.get(url).content\n",
    "\n",
    "# Parse the HTML content with BeautifulSoup\n",
    "soup = BeautifulSoup(html, 'html.parser')\n",
    "\n",
    "# Extract the table containing the financial statements\n",
    "tables = soup.find_all('table')\n",
    "\n",
    "if len(tables) == 0:\n",
    "    print(\"No tables found on the page.\")\n",
    "else:\n",
    "    table = tables[0]\n",
    "    # Convert the table to a Pandas DataFrame\n",
    "    df = pd.read_html(str(table))[0]\n",
    "    # Print the DataFrame\n",
    "    print(df)\n"
   ]
  }
 ],
 "metadata": {
  "kernelspec": {
   "display_name": "Python 3",
   "language": "python",
   "name": "python3"
  },
  "language_info": {
   "codemirror_mode": {
    "name": "ipython",
    "version": 3
   },
   "file_extension": ".py",
   "mimetype": "text/x-python",
   "name": "python",
   "nbconvert_exporter": "python",
   "pygments_lexer": "ipython3",
   "version": "3.11.2"
  },
  "orig_nbformat": 4
 },
 "nbformat": 4,
 "nbformat_minor": 2
}
